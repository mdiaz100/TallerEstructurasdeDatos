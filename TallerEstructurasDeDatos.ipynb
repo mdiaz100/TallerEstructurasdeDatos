{
  "cells": [
    {
      "cell_type": "markdown",
      "metadata": {
        "id": "view-in-github",
        "colab_type": "text"
      },
      "source": [
        "<a href=\"https://colab.research.google.com/github/mdiaz100/TallerEstructurasdeDatos/blob/main/TallerEstructurasDeDatos.ipynb\" target=\"_parent\"><img src=\"https://colab.research.google.com/assets/colab-badge.svg\" alt=\"Open In Colab\"/></a>"
      ]
    },
    {
      "cell_type": "markdown",
      "source": [
        "Ejercicio 1: 1. Given a string, find all possible palindromic partitions of given string."
      ],
      "metadata": {
        "id": "rgU_24nka206"
      }
    },
    {
      "cell_type": "code",
      "source": [
        "\n",
        "from typing import List, Tuple\n",
        "\n",
        "def check_palindrome(s: str, index: int, i: int) -> bool:\n",
        "\t# Check if the string from index to i is a palindrome\n",
        "\twhile index <= i:\n",
        "\t\tif s[index] != s[i]:\n",
        "\t\t\treturn False\n",
        "\t\tindex += 1\n",
        "\t\ti -= 1\n",
        "\treturn True\n",
        "\n",
        "def the_helper(result: List[List[str]], dump: List[str], s: str, n: int, index: int):\n",
        "\t# Base case: when the end of string is reached, add the possible partition to result\n",
        "\tif index == n:\n",
        "\t\tresult.append(dump[:])\n",
        "\t\treturn\n",
        "\n",
        "\t# Main worker function\n",
        "\tfor i in range(index, n):\n",
        "\t\t# If the string from index to i is a palindrome\n",
        "\t\tif check_palindrome(s, index, i):\n",
        "\t\t\tdump.append(s[index:i+1])\n",
        "\t\t\tthe_helper(result, dump, s, n, i+1)\n",
        "\t\t\t# Backtracking\n",
        "\t\t\tdump.pop()\n",
        "\n",
        "def all_palindrome_partitions(s: str) -> List[List[str]]:\n",
        "\t# Store all possible partitions\n",
        "\tresult = []\n",
        "\t# Temporary storage\n",
        "\tdump = []\n",
        "\tn = len(s)\n",
        "\t# Call the helper function\n",
        "\tthe_helper(result, dump, s, n, 0)\n",
        "\treturn result\n",
        "\n",
        "# Test\n",
        "s = \"bcc\"\n",
        "result = all_palindrome_partitions(s)\n",
        "print(\"All Possible palindromic partitions of the string:\")\n",
        "print(result)\n",
        "\n",
        "\n"
      ],
      "metadata": {
        "id": "o2EtMNDSa9lB",
        "outputId": "1918d12f-01f2-47ad-cb70-dc0e104ef141",
        "colab": {
          "base_uri": "https://localhost:8080/"
        }
      },
      "execution_count": null,
      "outputs": [
        {
          "output_type": "stream",
          "name": "stdout",
          "text": [
            "All Possible palindromic partitions of the string:\n",
            "[['b', 'c', 'c'], ['b', 'cc']]\n"
          ]
        }
      ]
    },
    {
      "cell_type": "markdown",
      "source": [
        "Ejercicio 2: 2. The atoi() function takes a string (which represents an integer) as an argument and returns its value."
      ],
      "metadata": {
        "id": "jdTLKOmzbT5z"
      }
    },
    {
      "cell_type": "code",
      "source": [],
      "metadata": {
        "id": "n2drd88pcV7c"
      },
      "execution_count": null,
      "outputs": []
    },
    {
      "cell_type": "markdown",
      "source": [
        "ejercicio 3: Given an integer, K. Generate all binary strings of size k without consecutive 1’s."
      ],
      "metadata": {
        "id": "jv9Z0FaLcWda"
      }
    },
    {
      "cell_type": "code",
      "source": [
        "# A utility function generate all string without\n",
        "# consecutive 1'sof size K\n",
        "def generateAllStringsUtil(K, str, n):\n",
        "\t\n",
        "\t# print binary string without consecutive 1's\n",
        "\tif (n == K):\n",
        "\t\t\n",
        "\t\t# terminate binary string\n",
        "\t\tprint(*str[:n], sep = \"\", end = \" \")\n",
        "\t\treturn\n",
        "\t\n",
        "\t# if previous character is '1' then we put\n",
        "\t# only 0 at end of string\n",
        "\t# example str = \"01\" then new string be \"000\"\n",
        "\tif (str[n-1] == '1'):\n",
        "\t\tstr[n] = '0'\n",
        "\t\tgenerateAllStringsUtil (K, str, n + 1)\n",
        "\t\t\n",
        "\t# if previous character is '0' than we put\n",
        "\t# both '1' and '0' at end of string\n",
        "\t# example str = \"00\" then new string \"001\" and \"000\"\n",
        "\tif (str[n-1] == '0'):\n",
        "\t\tstr[n] = '0'\n",
        "\t\tgenerateAllStringsUtil(K, str, n + 1)\n",
        "\t\tstr[n] = '1'\n",
        "\t\tgenerateAllStringsUtil(K, str, n + 1)\n",
        "\t\t\n",
        "# function generate all binary string without\n",
        "# consecutive 1's\n",
        "def generateAllStrings(K):\n",
        "\t\n",
        "\t# Base case\n",
        "\tif (K <= 0):\n",
        "\t\treturn\n",
        "\t\n",
        "\t# One by one stores every\n",
        "\t# binary string of length K\n",
        "\tstr = [0] * K\n",
        "\t\n",
        "\t# Generate all Binary string starts with '0'\n",
        "\tstr[0] = '0'\n",
        "\tgenerateAllStringsUtil (K, str, 1)\n",
        "\t\n",
        "\t# Generate all Binary string starts with '1'\n",
        "\tstr[0] = '1'\n",
        "\tgenerateAllStringsUtil (K, str, 1)\n",
        "\n",
        "# Driver code\n",
        "K = 3\n",
        "generateAllStrings (K)"
      ],
      "metadata": {
        "colab": {
          "base_uri": "https://localhost:8080/"
        },
        "id": "FjQQOmjaoYN4",
        "outputId": "14edad43-d3da-4d9c-c504-964ffbd02de0"
      },
      "execution_count": 1,
      "outputs": [
        {
          "output_type": "stream",
          "name": "stdout",
          "text": [
            "000 001 010 100 101 "
          ]
        }
      ]
    },
    {
      "cell_type": "markdown",
      "source": [
        "Ejercicio 4: Given two positive integers n and k, print all increasing sequences of length k such that the elements in every sequence are from the first n natural numbers."
      ],
      "metadata": {
        "id": "lespyu2uopQE"
      }
    },
    {
      "cell_type": "code",
      "source": [
        "# Python3 program to print all\n",
        "# increasing sequences of length\n",
        "# 'k' such that the elements in\n",
        "# every sequence are from first\n",
        "# 'n' natural numbers.\n",
        "\n",
        "# A utility function to\n",
        "# print contents of arr[0..k-1]\n",
        "def printArr(arr, k):\n",
        "\tfor i in range(k):\n",
        "\t\tprint(arr[i], end = \" \");\n",
        "\tprint();\n",
        "\n",
        "# A recursive function to print\n",
        "# all increasing sequences of\n",
        "# first n natural numbers. Every\n",
        "# sequence should be length k.\n",
        "# The array arr[] is used to\n",
        "# store current sequence.\n",
        "def printSeqUtil(n, k,len1, arr):\n",
        "\t\n",
        "\t# If length of current\n",
        "\t# increasing sequence\n",
        "\t# becomes k, print it\n",
        "\tif (len1 == k):\n",
        "\t\tprintArr(arr, k);\n",
        "\t\treturn;\n",
        "\n",
        "\t# Decide the starting number\n",
        "\t# to put at current position:\n",
        "\t# If length is 0, then there\n",
        "\t# are no previous elements\n",
        "\t# in arr[]. So start putting\n",
        "\t# new numbers with 1. If length\n",
        "\t# is not 0, then start from value\n",
        "\t# of previous element plus 1.\n",
        "\ti = 1 if(len1 == 0) else (arr[len1 - 1] + 1);\n",
        "\n",
        "\t# Increase length\n",
        "\tlen1 += 1;\n",
        "\n",
        "\t# Put all numbers (which are greater\n",
        "\t# than the previous element) at\n",
        "\t# new position.\n",
        "\twhile (i <= n):\n",
        "\t\tarr[len1 - 1] = i;\n",
        "\t\tprintSeqUtil(n, k, len1, arr);\n",
        "\t\ti += 1;\n",
        "\n",
        "\t# This is important. The variable\n",
        "\t# 'len' is shared among all function\n",
        "\t# calls in recursion tree. Its value\n",
        "\t# must be brought back before next\n",
        "\t# iteration of while loop\n",
        "\tlen1 -= 1;\n",
        "\n",
        "# This function prints all increasing\n",
        "# sequences of first n natural numbers.\n",
        "# The length of every sequence must be\n",
        "# k. This function mainly uses printSeqUtil()\n",
        "def printSeq(n, k):\n",
        "\t\tarr = [0] * k; # An array to store\n",
        "\t\t\t\t\t# individual sequences\n",
        "\t\tlen1 = 0; # Initial length of\n",
        "\t\t\t\t# current sequence\n",
        "\t\tprintSeqUtil(n, k, len1, arr);\n",
        "\n",
        "# Driver Code\n",
        "k = 3;\n",
        "n = 7;\n",
        "printSeq(n, k);\n",
        "\n",
        "\n"
      ],
      "metadata": {
        "colab": {
          "base_uri": "https://localhost:8080/"
        },
        "id": "clzDXtkboqa5",
        "outputId": "9756e5aa-0f53-4aab-85b6-3518ede02c0d"
      },
      "execution_count": 2,
      "outputs": [
        {
          "output_type": "stream",
          "name": "stdout",
          "text": [
            "1 2 3 \n",
            "1 2 4 \n",
            "1 2 5 \n",
            "1 2 6 \n",
            "1 2 7 \n",
            "1 3 4 \n",
            "1 3 5 \n",
            "1 3 6 \n",
            "1 3 7 \n",
            "1 4 5 \n",
            "1 4 6 \n",
            "1 4 7 \n",
            "1 5 6 \n",
            "1 5 7 \n",
            "1 6 7 \n",
            "2 3 4 \n",
            "2 3 5 \n",
            "2 3 6 \n",
            "2 3 7 \n",
            "2 4 5 \n",
            "2 4 6 \n",
            "2 4 7 \n",
            "2 5 6 \n",
            "2 5 7 \n",
            "2 6 7 \n",
            "3 4 5 \n",
            "3 4 6 \n",
            "3 4 7 \n",
            "3 5 6 \n",
            "3 5 7 \n",
            "3 6 7 \n",
            "4 5 6 \n",
            "4 5 7 \n",
            "4 6 7 \n",
            "5 6 7 \n"
          ]
        }
      ]
    },
    {
      "cell_type": "markdown",
      "source": [
        "Ejercicio 5: Given an array of integers, print a sum triangle from it such that the first level has all array elements. From then, at each level number of elements is one less than the previous level and elements at the level is be the Sum of consecutive two elements in the previous level."
      ],
      "metadata": {
        "id": "O9e9Ka5Jo7nE"
      }
    },
    {
      "cell_type": "code",
      "source": [
        "\n",
        "# Function to generate Special Triangle.\n",
        "def printTriangle(A):\n",
        "\t\t\n",
        "\t\t# Base case\n",
        "\t\tif (len(A) < 1):\n",
        "\t\t\treturn\n",
        "\n",
        "\t\t# Creating new array which contains the\n",
        "\t\t# Sum of consecutive elements in\n",
        "\t\t# the array passes as parameter.\n",
        "\t\ttemp = [0] * (len(A) - 1)\n",
        "\t\tfor i in range( 0, len(A) - 1):\n",
        "\t\t\n",
        "\t\t\tx = A[i] + A[i + 1]\n",
        "\t\t\ttemp[i] = x\n",
        "\t\t\n",
        "\n",
        "\t\t# Make a recursive call and pass\n",
        "\t\t# the newly created array\n",
        "\t\tprintTriangle(temp)\n",
        "\t\t\n",
        "\t\t# Print current array in the end so\n",
        "\t\t# that smaller arrays are printed first\n",
        "\t\tprint(A)\n",
        "\t\n",
        "\n",
        "# Driver function\n",
        "A = [ 1, 2, 3, 4, 5 ]\n",
        "printTriangle(A)\n",
        "\n"
      ],
      "metadata": {
        "colab": {
          "base_uri": "https://localhost:8080/"
        },
        "id": "6C7bbavUpkOT",
        "outputId": "dbb91483-f219-4f5a-aa98-99a3116d1735"
      },
      "execution_count": 3,
      "outputs": [
        {
          "output_type": "stream",
          "name": "stdout",
          "text": [
            "[48]\n",
            "[20, 28]\n",
            "[8, 12, 16]\n",
            "[3, 5, 7, 9]\n",
            "[1, 2, 3, 4, 5]\n"
          ]
        }
      ]
    },
    {
      "cell_type": "code",
      "source": [
        "\n",
        "def printTriangle(x):\n",
        "\n",
        "\t# base condition\n",
        "\tif(len(x) == 1):\n",
        "\t\treturn\n",
        "\t\n",
        "\t# temporary array of input array in print(int[] arr) function\n",
        "\t# for example arr = { 1, 2, 3, 4, 5 }\n",
        "\t# then temp[] = { 3, 5, 7, 9 } of size(len(arr)-1)= 4\n",
        "\ttemp = [0]*(len(x)-1)\n",
        "\t\n",
        "\t# Recursive function to fill elements in temp array according to Que.\n",
        "\thelper(temp, x, 0)\n",
        "\t\n",
        "\t# Recursive call for print(int[] arr) function\n",
        "\tprintTriangle(temp)\n",
        "\t\n",
        "\t# prints string format of temp array\n",
        "\tprint(temp)\n",
        "\n",
        "# Recursive function to fill elements in temp array\n",
        "def helper(temp, x, index):\n",
        "\n",
        "\t# base condition\n",
        "\tif(index == len(x)-1):\n",
        "\t\treturn temp\n",
        "\ttemp[index] = x[index] + x[index + 1]\n",
        "\t\n",
        "\t# Recursive call for helper() function\n",
        "\treturn helper(temp, x, index + 1)\n",
        "\n",
        "\n",
        "x = [1, 2, 3, 4, 5]\n",
        "\n",
        "# Recursive function that will print answer\n",
        "printTriangle(x)\n",
        "print(x)\n",
        "\n",
        "\n"
      ],
      "metadata": {
        "id": "cslws90UppYv"
      },
      "execution_count": null,
      "outputs": []
    },
    {
      "cell_type": "markdown",
      "source": [
        "Ejercicio 6: Given an array, write functions to find the minimum and maximum elements in it."
      ],
      "metadata": {
        "id": "Dxq_tAcKpz9f"
      }
    },
    {
      "cell_type": "code",
      "source": [
        "\n",
        "\n",
        "# Minimum Function\n",
        "def getMin(arr, n):\n",
        "\tres = arr[0]\n",
        "\tfor i in range(1,n):\n",
        "\t\tres = min(res, arr[i])\n",
        "\treturn res\n",
        "\n",
        "# Maximum Function\n",
        "def getMax(arr, n):\n",
        "\tres = arr[0]\n",
        "\tfor i in range(1,n):\n",
        "\t\tres = max(res, arr[i])\n",
        "\treturn res\n",
        "\n",
        "# Driver Program\n",
        "arr = [12, 1234, 45, 67, 1]\n",
        "n = len(arr)\n",
        "print (\"Minimum element of array:\", getMin(arr, n))\n",
        "print (\"Maximum element of array:\", getMax(arr, n))\n",
        "\n",
        "\n"
      ],
      "metadata": {
        "colab": {
          "base_uri": "https://localhost:8080/"
        },
        "id": "lNZqkQulp5fC",
        "outputId": "599178eb-c781-4c46-c046-7dc59e5e3233"
      },
      "execution_count": 4,
      "outputs": [
        {
          "output_type": "stream",
          "name": "stdout",
          "text": [
            "Minimum element of array: 1\n",
            "Maximum element of array: 1234\n"
          ]
        }
      ]
    },
    {
      "cell_type": "code",
      "source": [
        "# 2 opción\n",
        "def getMin(arr, n):\n",
        "\tif(n==1):\n",
        "\t\treturn arr[0]\n",
        "\t# If there is single element, return it.\n",
        "\t# Else return minimum of first element\n",
        "\t# and minimum of remaining array.\n",
        "\telse:\n",
        "\t\treturn min(getMin(arr[1:], n-1), arr[0])\n",
        "def getMax(arr, n):\n",
        "\tif(n==1):\n",
        "\t\treturn arr[0]\n",
        "\t# If there is single element, return it.\n",
        "\t# Else return maximum of first element\n",
        "\t# and maximum of remaining array.\n",
        "\telse:\n",
        "\t\treturn max(getMax(arr[1:], n-1), arr[0])\n",
        "\n",
        "# Driver code\n",
        "arr = [12, 1234, 45, 67, 1]\n",
        "n = len(arr)\n",
        "print(\"Minimum element of array: \",\n",
        "\t\t\t\tgetMin(arr, n));\n",
        "print(\"Maximum element of array: \",\n",
        "\t\t\t\tgetMax(arr, n));\n",
        "\n",
        "\n"
      ],
      "metadata": {
        "colab": {
          "base_uri": "https://localhost:8080/"
        },
        "id": "pBl5s1PzrVwI",
        "outputId": "3e54a684-1f02-48d9-e445-c1f2b8a3888a"
      },
      "execution_count": 5,
      "outputs": [
        {
          "output_type": "stream",
          "name": "stdout",
          "text": [
            "Minimum element of array:  1\n",
            "Maximum element of array:  1234\n"
          ]
        }
      ]
    },
    {
      "cell_type": "markdown",
      "source": [
        "Ejercicio 7: Given two sorted arrays A and B, generate all possible arrays such that the first element is taken from A then from B then from A, and so on in increasing order till the arrays are exhausted. The generated arrays should end with an element from B."
      ],
      "metadata": {
        "id": "0AlAK7iardYN"
      }
    },
    {
      "cell_type": "code",
      "source": [
        "# A utility function to print an array\n",
        "def printArr(arr,n):\n",
        "\n",
        "\tfor i in range(n):\n",
        "\t\tprint(arr[i] , \" \",end=\"\")\n",
        "\tprint()\n",
        "\n",
        "''' Function to generates and prints all\n",
        "\tsorted arrays from alternate elements of\n",
        "'A[i..m-1]' and 'B[j..n-1]'\n",
        "If 'flag' is true, then current element\n",
        "is to be included from A otherwise\n",
        "from B.\n",
        "'len' is the index in output array C[].\n",
        "\tWe print output array each time\n",
        "before including a character from A\n",
        "only if length of output array is\n",
        "greater than 0. We try than all possible combinations '''\n",
        "def generateUtil(A,B,C,i,j,m,n,len,flag):\n",
        "\n",
        "\tif (flag): # Include valid element from A\n",
        "\t\n",
        "\t\t# Print output if there is at\n",
        "\t\t# least one 'B' in output array 'C'\n",
        "\t\tif (len):\n",
        "\t\t\tprintArr(C, len+1)\n",
        "\n",
        "\t\t# Recur for all elements of\n",
        "\t\t# A after current index\n",
        "\t\tfor k in range(i,m):\n",
        "\t\t\n",
        "\t\t\tif ( not len):\n",
        "\t\t\t\n",
        "\t\t\t\t''' this block works for the\n",
        "\t\t\t\t\tvery first call to include\n",
        "\t\t\t\t\tthe first element in the output array '''\n",
        "\t\t\t\tC[len] = A[k]\n",
        "\n",
        "\t\t\t\t# don't increment lem\n",
        "\t\t\t\t# as B is included yet\n",
        "\t\t\t\tgenerateUtil(A, B, C, k+1, j, m, n, len, not flag)\n",
        "\t\t\t\n",
        "\t\t\telse:\n",
        "\n",
        "\t\t\t\t# include valid element from A and recur\n",
        "\t\t\t\tif (A[k] > C[len]):\n",
        "\t\t\t\t\n",
        "\t\t\t\t\tC[len+1] = A[k]\n",
        "\t\t\t\t\tgenerateUtil(A, B, C, k+1, j, m, n, len+1, not flag)\n",
        "\t\t\t\t\n",
        "\t\n",
        "\telse:\n",
        "\n",
        "\t\t# Include valid element from B and recur\n",
        "\t\tfor l in range(j,n):\n",
        "\t\t\n",
        "\t\t\tif (B[l] > C[len]):\n",
        "\t\t\t\n",
        "\t\t\t\tC[len+1] = B[l]\n",
        "\t\t\t\tgenerateUtil(A, B, C, i, l+1, m, n, len+1, not flag)\n",
        "\t\t\t\n",
        "\n",
        "# Wrapper function\n",
        "def generate(A,B,m,n):\n",
        "\n",
        "\tC=[] #output array\n",
        "\tfor i in range(m+n+1):\n",
        "\t\tC.append(0)\n",
        "\tgenerateUtil(A, B, C, 0, 0, m, n, 0, True)\n",
        "\n",
        "\n",
        "# Driver program\n",
        "\n",
        "A = [10, 15, 25]\n",
        "B = [5, 20, 30]\n",
        "n = len(A)\n",
        "m = len(B)\n",
        "\n",
        "generate(A, B, n, m)\n",
        "\n",
        "\n"
      ],
      "metadata": {
        "colab": {
          "base_uri": "https://localhost:8080/"
        },
        "id": "5_wprJ2Cr8US",
        "outputId": "b953ea83-e15d-4cb5-a9d3-fe7cd7800063"
      },
      "execution_count": 6,
      "outputs": [
        {
          "output_type": "stream",
          "name": "stdout",
          "text": [
            "10  20  \n",
            "10  20  25  30  \n",
            "10  30  \n",
            "15  20  \n",
            "15  20  25  30  \n",
            "15  30  \n",
            "25  30  \n"
          ]
        }
      ]
    },
    {
      "cell_type": "markdown",
      "source": [
        "Ejercicio 8: Given a string find its first uppercase letter"
      ],
      "metadata": {
        "id": "Wi3nR_qPsENs"
      }
    },
    {
      "cell_type": "code",
      "source": [
        "def firstUpperCase(word,index):\n",
        "\t\"\"\"\"Recursively traverse from start of string to end,\n",
        "\tIf character is upper return it.\n",
        "\t\"\"\"\n",
        "\t\n",
        "\t\n",
        "\tif index==len(word):\n",
        "\t#if no upperCase letter found in string return \"No UpperCase letter found.\"\n",
        "\t\treturn \"No UpperCase letter found.\"\n",
        "\t\n",
        "\tif word[index].isupper():\n",
        "\t\treturn word[n]\n",
        "\t\n",
        "\t\n",
        "\treturn firstUpperCase(word,index+1)\n",
        "\n",
        "word=\"geeksforGeekS\"\n",
        "print(firstUpperCase(word,0))\n"
      ],
      "metadata": {
        "colab": {
          "base_uri": "https://localhost:8080/"
        },
        "id": "YgtMHf2vsVWH",
        "outputId": "f3e0d411-9ba8-40a5-d876-fafc1eacd2fa"
      },
      "execution_count": 8,
      "outputs": [
        {
          "output_type": "stream",
          "name": "stdout",
          "text": [
            "k\n"
          ]
        }
      ]
    },
    {
      "cell_type": "markdown",
      "source": [
        "Ejercicio 9: Given an input string of numbers, find all combinations of numbers that can be formed using digits in the same order."
      ],
      "metadata": {
        "id": "dGhcqRApsmbv"
      }
    },
    {
      "cell_type": "code",
      "source": [
        "\n",
        "\n",
        "# function to print combinations of numbers\n",
        "# in given input string\n",
        "def printCombinations(input, index, output, outLength):\n",
        "\t\n",
        "\t# no more digits left in input string\n",
        "\tif (len(input) == index):\n",
        "\t\t\n",
        "\t\t# print output string & return\n",
        "\t\toutput[outLength] = '\\0'\n",
        "\t\tprint(*output[:outLength], sep = \"\")\n",
        "\t\treturn\n",
        "\t\n",
        "\t# place current digit in input string\n",
        "\toutput[outLength] = input[index]\n",
        "\t\n",
        "\t# separate next digit with a space\n",
        "\toutput[outLength + 1] = ' '\n",
        "\tprintCombinations(input, index + 1,\n",
        "\t\t\t\t\toutput, outLength + 2)\n",
        "\t\n",
        "\t# if next digit exists make a\n",
        "\t# call without including space\n",
        "\tif(len(input) != (index + 1)):\n",
        "\t\tprintCombinations(input, index + 1,\n",
        "\t\t\t\t\t\toutput, outLength + 1)\n",
        "\n",
        "# Driver code\n",
        "input = \"1214\"\n",
        "output = [0]*100\n",
        "\n",
        "# initialize output with empty string\n",
        "output[0] = '\\0'\n",
        "\n",
        "printCombinations(input, 0, output, 0)\n",
        "\n",
        "\n"
      ],
      "metadata": {
        "colab": {
          "base_uri": "https://localhost:8080/"
        },
        "id": "wVZpHakYs10l",
        "outputId": "c7efa1fe-cb2e-4e7b-f308-42e9b75d6bb7"
      },
      "execution_count": 9,
      "outputs": [
        {
          "output_type": "stream",
          "name": "stdout",
          "text": [
            "1 2 1 4 \n",
            "1 2 14 \n",
            "1 21 4 \n",
            "1 214 \n",
            "12 1 4 \n",
            "12 14 \n",
            "121 4 \n",
            "1214 \n"
          ]
        }
      ]
    },
    {
      "cell_type": "markdown",
      "source": [
        "Ejercicio 10: Given a string calculate length of the string using recursion.\n"
      ],
      "metadata": {
        "id": "nn7tWXRws69m"
      }
    },
    {
      "cell_type": "code",
      "source": [
        "\n",
        "str = \"GeeksforGeeks\"\n",
        "\n",
        "# Function to\n",
        "# calculate length\n",
        "def string_length(str) :\n",
        "\t\n",
        "\t# if we reach at the\n",
        "\t# end of the string\n",
        "\tif str == '':\n",
        "\t\treturn 0\n",
        "\telse :\n",
        "\t\treturn 1 + string_length(str[1:])\n",
        "\t\n",
        "# Driver Code\n",
        "print (string_length(str))\n",
        "\n"
      ],
      "metadata": {
        "colab": {
          "base_uri": "https://localhost:8080/"
        },
        "id": "OSan32qvs_qQ",
        "outputId": "d58f9ab2-e67e-43e4-d4a6-34cbb0462643"
      },
      "execution_count": 10,
      "outputs": [
        {
          "output_type": "stream",
          "name": "stdout",
          "text": [
            "13\n"
          ]
        }
      ]
    }
  ],
  "metadata": {
    "colab": {
      "toc_visible": true,
      "provenance": [],
      "include_colab_link": true
    },
    "kernelspec": {
      "display_name": "Python 3",
      "name": "python3"
    }
  },
  "nbformat": 4,
  "nbformat_minor": 0
}